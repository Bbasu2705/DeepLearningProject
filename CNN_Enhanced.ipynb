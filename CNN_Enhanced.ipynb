{
  "cells": [
    {
      "cell_type": "code",
      "execution_count": 9,
      "metadata": {
        "id": "2RBzVsC2KnZF"
      },
      "outputs": [],
      "source": [
        "import tensorflow as tf"
      ]
    },
    {
      "cell_type": "code",
      "execution_count": 10,
      "metadata": {
        "id": "Z5X-uGcvZCul"
      },
      "outputs": [],
      "source": [
        "from tensorflow.keras.datasets import cifar10"
      ]
    },
    {
      "cell_type": "code",
      "execution_count": 11,
      "metadata": {
        "id": "oG6nKpFOZZ0s"
      },
      "outputs": [],
      "source": [
        "from tensorflow.keras.models import Sequential\n",
        "from tensorflow.keras.layers import Conv2D, MaxPooling2D, Flatten, Dense, Dropout,BatchNormalization\n",
        "from tensorflow.keras.utils import to_categorical\n",
        "import numpy as np\n",
        "from sklearn.metrics import accuracy_score, precision_score, recall_score, f1_score, confusion_matrix\n",
        "import seaborn as sns\n",
        "import matplotlib.pyplot as plt"
      ]
    },
    {
      "cell_type": "code",
      "execution_count": 12,
      "metadata": {
        "id": "yeD-WpMxZe1v"
      },
      "outputs": [],
      "source": [
        "(train_X,train_y),(test_X,test_y) = cifar10.load_data()"
      ]
    },
    {
      "cell_type": "code",
      "execution_count": 13,
      "metadata": {
        "id": "cH7_0m9Eif7u"
      },
      "outputs": [],
      "source": [
        "train_X = train_X.astype('float32') / 255.0\n",
        "test_X = test_X.astype('float32') / 255.0"
      ]
    },
    {
      "cell_type": "code",
      "execution_count": 14,
      "metadata": {
        "id": "jcnMdexp7cXf"
      },
      "outputs": [],
      "source": [
        "num_classes = 10\n",
        "train_y = to_categorical(train_y, num_classes)\n",
        "test_y = to_categorical(test_y, num_classes)"
      ]
    },
    {
      "cell_type": "code",
      "execution_count": 15,
      "metadata": {
        "id": "DR13Qp6DT3db"
      },
      "outputs": [],
      "source": [
        "from tensorflow.keras.preprocessing.image import ImageDataGenerator\n",
        "\n",
        "datagen = ImageDataGenerator(\n",
        "    rotation_range=10,\n",
        "    width_shift_range=0.1,\n",
        "    height_shift_range=0.1,\n",
        "    shear_range=0.1,\n",
        "    zoom_range=0.1,\n",
        "    horizontal_flip=True,\n",
        "    fill_mode='nearest'\n",
        ")\n"
      ]
    },
    {
      "cell_type": "code",
      "execution_count": 16,
      "metadata": {
        "id": "KJcB_PcU72Bt"
      },
      "outputs": [],
      "source": [
        "model = Sequential([\n",
        "    Conv2D(64, (3, 3), activation='relu', input_shape=(32, 32, 3)),\n",
        "    BatchNormalization(),\n",
        "    MaxPooling2D((2, 2)),\n",
        "\n",
        "    Conv2D(128, (3, 3), activation='relu'),\n",
        "    BatchNormalization(),\n",
        "    MaxPooling2D((2, 2)),\n",
        "\n",
        "    Conv2D(256, (3, 3), activation='relu'),\n",
        "    BatchNormalization(),\n",
        "    MaxPooling2D((2, 2)),\n",
        "\n",
        "    Flatten(),\n",
        "    Dense(512, activation='relu'),\n",
        "    Dropout(0.5),\n",
        "    Dense(256, activation='relu'),\n",
        "    Dropout(0.5),\n",
        "    Dense(num_classes, activation='softmax')\n",
        "])\n"
      ]
    },
    {
      "cell_type": "code",
      "execution_count": 17,
      "metadata": {
        "id": "tEeAbu2vV-_A"
      },
      "outputs": [],
      "source": [
        "model.compile(optimizer='adam', loss='categorical_crossentropy', metrics=['accuracy'])"
      ]
    },
    {
      "cell_type": "code",
      "execution_count": 18,
      "metadata": {
        "colab": {
          "base_uri": "https://localhost:8080/"
        },
        "id": "dHlPTCz1Wf4t",
        "outputId": "3c9db995-e4ca-4998-ee06-deff9a2dda85"
      },
      "outputs": [
        {
          "output_type": "stream",
          "name": "stdout",
          "text": [
            "Epoch 1/20\n",
            "391/391 [==============================] - 274s 693ms/step - loss: 1.8213 - accuracy: 0.3459 - val_loss: 3.2295 - val_accuracy: 0.1794\n",
            "Epoch 2/20\n",
            "391/391 [==============================] - 269s 688ms/step - loss: 1.4115 - accuracy: 0.4967 - val_loss: 1.3565 - val_accuracy: 0.5058\n",
            "Epoch 3/20\n",
            "391/391 [==============================] - 269s 689ms/step - loss: 1.2435 - accuracy: 0.5641 - val_loss: 1.3498 - val_accuracy: 0.5085\n",
            "Epoch 4/20\n",
            "391/391 [==============================] - 277s 710ms/step - loss: 1.1246 - accuracy: 0.6087 - val_loss: 1.2126 - val_accuracy: 0.5914\n",
            "Epoch 5/20\n",
            "391/391 [==============================] - 271s 693ms/step - loss: 1.0331 - accuracy: 0.6464 - val_loss: 0.9777 - val_accuracy: 0.6703\n",
            "Epoch 6/20\n",
            "391/391 [==============================] - 269s 688ms/step - loss: 0.9753 - accuracy: 0.6682 - val_loss: 1.0384 - val_accuracy: 0.6341\n",
            "Epoch 7/20\n",
            "391/391 [==============================] - 277s 710ms/step - loss: 0.9229 - accuracy: 0.6863 - val_loss: 0.9041 - val_accuracy: 0.6867\n",
            "Epoch 8/20\n",
            "391/391 [==============================] - 270s 690ms/step - loss: 0.8801 - accuracy: 0.7018 - val_loss: 1.1947 - val_accuracy: 0.6032\n",
            "Epoch 9/20\n",
            "391/391 [==============================] - 280s 714ms/step - loss: 0.8400 - accuracy: 0.7172 - val_loss: 0.8263 - val_accuracy: 0.7121\n",
            "Epoch 10/20\n",
            "391/391 [==============================] - 270s 690ms/step - loss: 0.8130 - accuracy: 0.7245 - val_loss: 0.9200 - val_accuracy: 0.6859\n",
            "Epoch 11/20\n",
            "391/391 [==============================] - 271s 692ms/step - loss: 0.7893 - accuracy: 0.7334 - val_loss: 0.8008 - val_accuracy: 0.7309\n",
            "Epoch 12/20\n",
            "391/391 [==============================] - 282s 720ms/step - loss: 0.7656 - accuracy: 0.7422 - val_loss: 0.8654 - val_accuracy: 0.7144\n",
            "Epoch 13/20\n",
            "391/391 [==============================] - 273s 697ms/step - loss: 0.7368 - accuracy: 0.7527 - val_loss: 0.7645 - val_accuracy: 0.7352\n",
            "Epoch 14/20\n",
            "391/391 [==============================] - 267s 683ms/step - loss: 0.7166 - accuracy: 0.7597 - val_loss: 0.7024 - val_accuracy: 0.7709\n",
            "Epoch 15/20\n",
            "391/391 [==============================] - 262s 671ms/step - loss: 0.7050 - accuracy: 0.7644 - val_loss: 0.7300 - val_accuracy: 0.7503\n",
            "Epoch 16/20\n",
            "391/391 [==============================] - 270s 691ms/step - loss: 0.6899 - accuracy: 0.7687 - val_loss: 0.7319 - val_accuracy: 0.7509\n",
            "Epoch 17/20\n",
            "391/391 [==============================] - 272s 694ms/step - loss: 0.6757 - accuracy: 0.7758 - val_loss: 0.7093 - val_accuracy: 0.7566\n",
            "Epoch 18/20\n",
            "391/391 [==============================] - 261s 668ms/step - loss: 0.6559 - accuracy: 0.7809 - val_loss: 0.7337 - val_accuracy: 0.7457\n",
            "Epoch 19/20\n",
            "391/391 [==============================] - 260s 665ms/step - loss: 0.6408 - accuracy: 0.7859 - val_loss: 0.7321 - val_accuracy: 0.7579\n",
            "Epoch 20/20\n",
            "391/391 [==============================] - 262s 670ms/step - loss: 0.6339 - accuracy: 0.7902 - val_loss: 0.6282 - val_accuracy: 0.7877\n"
          ]
        }
      ],
      "source": [
        "# Compute quantities required for featurewise normalization\n",
        "datagen.fit(train_X)\n",
        "\n",
        "# Fit the model on the batches generated by datagen.flow()\n",
        "history = model.fit(datagen.flow(train_X, train_y, batch_size=128),\n",
        "                    epochs=20, validation_data=(test_X, test_y))"
      ]
    },
    {
      "cell_type": "code",
      "execution_count": 19,
      "metadata": {
        "colab": {
          "base_uri": "https://localhost:8080/"
        },
        "id": "9NsunIEtT3dd",
        "outputId": "954c4e63-708a-4c97-e534-5cb6840702df"
      },
      "outputs": [
        {
          "output_type": "stream",
          "name": "stdout",
          "text": [
            "313/313 [==============================] - 12s 38ms/step - loss: 0.6282 - accuracy: 0.7877\n",
            "Test Accuracy: 78.77%\n"
          ]
        }
      ],
      "source": [
        "# Evaluate model\n",
        "test_loss, test_accuracy = model.evaluate(test_X, test_y)\n",
        "print(f\"Test Accuracy: {test_accuracy * 100:.2f}%\")"
      ]
    },
    {
      "cell_type": "code",
      "execution_count": null,
      "metadata": {
        "id": "Uan64-4PW5zz"
      },
      "outputs": [],
      "source": [
        "pred_y = model.predict(test_X)"
      ]
    },
    {
      "cell_type": "code",
      "execution_count": 21,
      "metadata": {
        "id": "Taqgszx_rB5i"
      },
      "outputs": [],
      "source": [
        "predicted_labels = np.argmax(pred_y, axis=1)"
      ]
    },
    {
      "cell_type": "code",
      "execution_count": null,
      "metadata": {
        "id": "qnId-vOIyfWA"
      },
      "outputs": [],
      "source": [
        "y_test = np.argmax(test_y, axis=1)"
      ]
    },
    {
      "cell_type": "code",
      "execution_count": 23,
      "metadata": {
        "colab": {
          "base_uri": "https://localhost:8080/"
        },
        "id": "Jkiqiuj4ywsY",
        "outputId": "6ff6275e-7877-4876-8c47-798b1c2314d1"
      },
      "outputs": [
        {
          "output_type": "execute_result",
          "data": {
            "text/plain": [
              "array([3, 8, 8, ..., 5, 1, 7])"
            ]
          },
          "metadata": {},
          "execution_count": 23
        }
      ],
      "source": [
        "y_test"
      ]
    },
    {
      "cell_type": "code",
      "execution_count": 24,
      "metadata": {
        "id": "cO9XRbOCiG_S"
      },
      "outputs": [],
      "source": [
        "conf_matrix = confusion_matrix(y_test, predicted_labels)"
      ]
    },
    {
      "cell_type": "code",
      "execution_count": 25,
      "metadata": {
        "colab": {
          "base_uri": "https://localhost:8080/",
          "height": 564
        },
        "id": "AlFtyT_nFBDZ",
        "outputId": "9ab09090-9557-408a-ca94-a0e83f317f2b"
      },
      "outputs": [
        {
          "output_type": "display_data",
          "data": {
            "text/plain": [
              "<Figure size 800x600 with 1 Axes>"
            ],
            "image/png": "[encoded data removed]"
          },
          "metadata": {}
        }
      ],
      "source": [
        "plt.figure(figsize=(8, 6))\n",
        "sns.heatmap(conf_matrix, annot=True, fmt='d', cmap='Blues', cbar=False)\n",
        "plt.xlabel('Predicted labels')\n",
        "plt.ylabel('True labels')\n",
        "plt.title('Confusion Matrix')\n",
        "plt.show()"
      ]
    },
    {
      "cell_type": "code",
      "execution_count": 25,
      "metadata": {
        "id": "79RH64AtybOE"
      },
      "outputs": [],
      "source": [
        "\n"
      ]
    },
    {
      "cell_type": "code",
      "execution_count": 25,
      "metadata": {
        "id": "u3ABZixiT3dg"
      },
      "outputs": [],
      "source": []
    },
    {
      "cell_type": "code",
      "execution_count": 25,
      "metadata": {
        "id": "7OcHhsc9T3dg"
      },
      "outputs": [],
      "source": []
    }
  ],
  "metadata": {
    "colab": {
      "provenance": []
    },
    "kernelspec": {
      "display_name": "Python 3 (ipykernel)",
      "language": "python",
      "name": "python3"
    },
    "language_info": {
      "codemirror_mode": {
        "name": "ipython",
        "version": 3
      },
      "file_extension": ".py",
      "mimetype": "text/x-python",
      "name": "python",
      "nbconvert_exporter": "python",
      "pygments_lexer": "ipython3",
      "version": "3.11.5"
    }
  },
  "nbformat": 4,
  "nbformat_minor": 0
}